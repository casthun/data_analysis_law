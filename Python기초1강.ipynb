{
 "cells": [
  {
   "cell_type": "markdown",
   "id": "196d05fd",
   "metadata": {
    "id": "196d05fd"
   },
   "source": [
    "## 사칙연산"
   ]
  },
  {
   "cell_type": "code",
   "execution_count": 1,
   "id": "276af1fd",
   "metadata": {
    "id": "276af1fd",
    "outputId": "071e14f0-608d-4626-c114-2873c20cfc9e"
   },
   "outputs": [
    {
     "data": {
      "text/plain": [
       "3"
      ]
     },
     "execution_count": 1,
     "metadata": {},
     "output_type": "execute_result"
    }
   ],
   "source": [
    "# 덧셈\n",
    "\n",
    "1+2"
   ]
  },
  {
   "cell_type": "code",
   "execution_count": 2,
   "id": "dc213c57",
   "metadata": {
    "id": "dc213c57",
    "outputId": "d9e02f58-057e-4259-9a05-d1b449823275"
   },
   "outputs": [
    {
     "data": {
      "text/plain": [
       "1"
      ]
     },
     "execution_count": 2,
     "metadata": {},
     "output_type": "execute_result"
    }
   ],
   "source": [
    "# 뺄셈\n",
    "\n",
    "3-2"
   ]
  },
  {
   "cell_type": "code",
   "execution_count": 3,
   "id": "bd7b3408",
   "metadata": {
    "id": "bd7b3408",
    "outputId": "ff183b3d-ff9a-4674-efcc-053e56cf7c5c"
   },
   "outputs": [
    {
     "data": {
      "text/plain": [
       "6"
      ]
     },
     "execution_count": 3,
     "metadata": {},
     "output_type": "execute_result"
    }
   ],
   "source": [
    "# 곱셈\n",
    "\n",
    "2*3"
   ]
  },
  {
   "cell_type": "code",
   "execution_count": 4,
   "id": "5804c0be",
   "metadata": {
    "id": "5804c0be",
    "outputId": "6e069078-819e-457f-d83f-6e7c8a258896"
   },
   "outputs": [
    {
     "data": {
      "text/plain": [
       "2.5"
      ]
     },
     "execution_count": 4,
     "metadata": {},
     "output_type": "execute_result"
    }
   ],
   "source": [
    "# 나누기\n",
    "\n",
    "5/2"
   ]
  },
  {
   "cell_type": "code",
   "execution_count": 5,
   "id": "f0621663",
   "metadata": {
    "id": "f0621663",
    "outputId": "75dd73d7-0337-4b3b-8c78-3fb764b0f560"
   },
   "outputs": [
    {
     "data": {
      "text/plain": [
       "2"
      ]
     },
     "execution_count": 5,
     "metadata": {},
     "output_type": "execute_result"
    }
   ],
   "source": [
    "# 몫\n",
    "\n",
    "5//2"
   ]
  },
  {
   "cell_type": "code",
   "execution_count": 6,
   "id": "021e8898",
   "metadata": {
    "id": "021e8898",
    "outputId": "a0efc532-574f-4673-a5d4-ff90ad968544"
   },
   "outputs": [
    {
     "data": {
      "text/plain": [
       "1"
      ]
     },
     "execution_count": 6,
     "metadata": {},
     "output_type": "execute_result"
    }
   ],
   "source": [
    "# 나머지\n",
    "\n",
    "5%2"
   ]
  },
  {
   "cell_type": "code",
   "execution_count": 7,
   "id": "94de4df7",
   "metadata": {
    "id": "94de4df7",
    "outputId": "087e4df0-44a8-46a5-e25b-64df4396025f"
   },
   "outputs": [
    {
     "data": {
      "text/plain": [
       "8"
      ]
     },
     "execution_count": 7,
     "metadata": {},
     "output_type": "execute_result"
    }
   ],
   "source": [
    "# 거듭제곱\n",
    "\n",
    "2**3"
   ]
  },
  {
   "cell_type": "markdown",
   "id": "8b725bff",
   "metadata": {
    "id": "8b725bff"
   },
   "source": [
    "## 변수"
   ]
  },
  {
   "cell_type": "code",
   "execution_count": 2,
   "id": "025509c8",
   "metadata": {
    "colab": {
     "base_uri": "https://localhost:8080/"
    },
    "executionInfo": {
     "elapsed": 5,
     "status": "ok",
     "timestamp": 1678095728715,
     "user": {
      "displayName": "Hun Park",
      "userId": "02903063424710487386"
     },
     "user_tz": -540
    },
    "id": "025509c8",
    "outputId": "ec43b1eb-c4d5-42e7-eb53-2f02a97d7517"
   },
   "outputs": [
    {
     "data": {
      "text/plain": [
       "3"
      ]
     },
     "execution_count": 2,
     "metadata": {},
     "output_type": "execute_result"
    }
   ],
   "source": [
    "# 변수명 = 데이터 --> 데이터를 변수에 할당\n",
    "\n",
    "a = 3\n",
    "a"
   ]
  },
  {
   "cell_type": "code",
   "execution_count": 3,
   "id": "a097077f",
   "metadata": {
    "colab": {
     "base_uri": "https://localhost:8080/"
    },
    "executionInfo": {
     "elapsed": 1059,
     "status": "ok",
     "timestamp": 1678095740791,
     "user": {
      "displayName": "Hun Park",
      "userId": "02903063424710487386"
     },
     "user_tz": -540
    },
    "id": "a097077f",
    "outputId": "06a6767c-47c2-49af-abdd-e07b454ae35f"
   },
   "outputs": [
    {
     "data": {
      "text/plain": [
       "4"
      ]
     },
     "execution_count": 3,
     "metadata": {},
     "output_type": "execute_result"
    }
   ],
   "source": [
    "# 변수명에 새로운 데이터를 할당\n",
    "\n",
    "a = 4\n",
    "a"
   ]
  },
  {
   "cell_type": "code",
   "execution_count": null,
   "id": "2bfdde45",
   "metadata": {
    "colab": {
     "base_uri": "https://localhost:8080/"
    },
    "executionInfo": {
     "elapsed": 8,
     "status": "ok",
     "timestamp": 1678095746392,
     "user": {
      "displayName": "Hun Park",
      "userId": "02903063424710487386"
     },
     "user_tz": -540
    },
    "id": "2bfdde45",
    "outputId": "c052fa9f-ee1e-4a11-c880-767ac79d2372"
   },
   "outputs": [
    {
     "data": {
      "text/plain": [
       "4"
      ]
     },
     "execution_count": 3,
     "metadata": {},
     "output_type": "execute_result"
    }
   ],
   "source": [
    "# 동일한 변수명에 연달아 데이터를 할당하는 경우\n",
    "# 마지막에 할당된 값이 저장됨\n",
    "\n",
    "a = 3\n",
    "a = 4\n",
    "a"
   ]
  },
  {
   "cell_type": "code",
   "execution_count": null,
   "id": "28aeb53b",
   "metadata": {
    "id": "28aeb53b",
    "outputId": "6d82ca72-75bf-4cd1-a669-26957cc49511"
   },
   "outputs": [
    {
     "data": {
      "text/plain": [
       "7"
      ]
     },
     "execution_count": 11,
     "metadata": {},
     "output_type": "execute_result"
    }
   ],
   "source": [
    "# 두 변수에 값을 할당한 후 변수 간 연산이 가능\n",
    "\n",
    "a = 3\n",
    "b = 4\n",
    "\n",
    "a+b"
   ]
  },
  {
   "cell_type": "code",
   "execution_count": null,
   "id": "c86e0e70",
   "metadata": {
    "id": "c86e0e70",
    "outputId": "5a4413c9-bcc6-4812-d52c-abec8752cd31"
   },
   "outputs": [
    {
     "data": {
      "text/plain": [
       "-1"
      ]
     },
     "execution_count": 12,
     "metadata": {},
     "output_type": "execute_result"
    }
   ],
   "source": [
    "# 뺄셈\n",
    "\n",
    "a-b"
   ]
  },
  {
   "cell_type": "code",
   "execution_count": null,
   "id": "dcbd78a6",
   "metadata": {
    "id": "dcbd78a6",
    "outputId": "1657512c-9257-4f73-8b53-7034a06d2097"
   },
   "outputs": [
    {
     "data": {
      "text/plain": [
       "12"
      ]
     },
     "execution_count": 13,
     "metadata": {},
     "output_type": "execute_result"
    }
   ],
   "source": [
    "# 곱셈\n",
    "\n",
    "a*b"
   ]
  },
  {
   "cell_type": "code",
   "execution_count": null,
   "id": "01ca3da4",
   "metadata": {
    "id": "01ca3da4",
    "outputId": "af0fb2df-d3be-4fe4-b536-af202bdede59"
   },
   "outputs": [
    {
     "data": {
      "text/plain": [
       "81"
      ]
     },
     "execution_count": 14,
     "metadata": {},
     "output_type": "execute_result"
    }
   ],
   "source": [
    "# 거듭제곱\n",
    "\n",
    "a**b"
   ]
  },
  {
   "cell_type": "code",
   "execution_count": null,
   "id": "c6889596",
   "metadata": {
    "id": "c6889596",
    "outputId": "f3fc9646-25ff-460f-dd9e-54a27dcdf11e"
   },
   "outputs": [
    {
     "data": {
      "text/plain": [
       "0.75"
      ]
     },
     "execution_count": 15,
     "metadata": {},
     "output_type": "execute_result"
    }
   ],
   "source": [
    "# 나눗셈\n",
    "\n",
    "a/b"
   ]
  },
  {
   "cell_type": "code",
   "execution_count": null,
   "id": "d1424dee",
   "metadata": {
    "id": "d1424dee",
    "outputId": "b1aefb3e-bbd6-4ff1-d45c-f0e1466b1408"
   },
   "outputs": [
    {
     "data": {
      "text/plain": [
       "0"
      ]
     },
     "execution_count": 16,
     "metadata": {},
     "output_type": "execute_result"
    }
   ],
   "source": [
    "# 몫 구하기\n",
    "\n",
    "a//b"
   ]
  },
  {
   "cell_type": "code",
   "execution_count": null,
   "id": "c0301584",
   "metadata": {
    "id": "c0301584",
    "outputId": "c8ac602c-b695-4e22-d33f-a30d8fca7e32"
   },
   "outputs": [
    {
     "data": {
      "text/plain": [
       "3"
      ]
     },
     "execution_count": 17,
     "metadata": {},
     "output_type": "execute_result"
    }
   ],
   "source": [
    "# 나머지 구하기\n",
    "\n",
    "a%b"
   ]
  },
  {
   "cell_type": "code",
   "execution_count": null,
   "id": "0c6a6a63",
   "metadata": {
    "id": "0c6a6a63",
    "outputId": "37d0491f-0cd2-4860-b11a-fe3a70796997"
   },
   "outputs": [
    {
     "ename": "SyntaxError",
     "evalue": "invalid syntax (486662231.py, line 1)",
     "output_type": "error",
     "traceback": [
      "\u001b[0;36m  File \u001b[0;32m\"/var/folders/p1/rdr79fn12mq0f_psp0gk93w00000gn/T/ipykernel_4559/486662231.py\"\u001b[0;36m, line \u001b[0;32m1\u001b[0m\n\u001b[0;31m    ab cd = 3\u001b[0m\n\u001b[0m       ^\u001b[0m\n\u001b[0;31mSyntaxError\u001b[0m\u001b[0;31m:\u001b[0m invalid syntax\n"
     ]
    }
   ],
   "source": [
    "# 변수명에 공백이 있는 경우 에러 반환\n",
    "\n",
    "ab cd = 3"
   ]
  },
  {
   "cell_type": "code",
   "execution_count": null,
   "id": "b90ead8f",
   "metadata": {
    "id": "b90ead8f",
    "outputId": "c4687edb-051d-4043-b191-1dfe5dbf470d"
   },
   "outputs": [
    {
     "ename": "SyntaxError",
     "evalue": "invalid syntax (4083826715.py, line 1)",
     "output_type": "error",
     "traceback": [
      "\u001b[0;36m  File \u001b[0;32m\"/var/folders/p1/rdr79fn12mq0f_psp0gk93w00000gn/T/ipykernel_4559/4083826715.py\"\u001b[0;36m, line \u001b[0;32m1\u001b[0m\n\u001b[0;31m    2ab = 3\u001b[0m\n\u001b[0m     ^\u001b[0m\n\u001b[0;31mSyntaxError\u001b[0m\u001b[0;31m:\u001b[0m invalid syntax\n"
     ]
    }
   ],
   "source": [
    "# 변수명이 숫자로 시작하는 경우 에러 반환\n",
    "\n",
    "2ab = 3"
   ]
  },
  {
   "cell_type": "code",
   "execution_count": null,
   "id": "5c2e264f",
   "metadata": {
    "id": "5c2e264f",
    "outputId": "ba100c73-fb8a-487d-b9ba-082824637c4b"
   },
   "outputs": [
    {
     "ename": "SyntaxError",
     "evalue": "invalid syntax (2960678850.py, line 3)",
     "output_type": "error",
     "traceback": [
      "\u001b[0;36m  File \u001b[0;32m\"/var/folders/p1/rdr79fn12mq0f_psp0gk93w00000gn/T/ipykernel_4559/2960678850.py\"\u001b[0;36m, line \u001b[0;32m3\u001b[0m\n\u001b[0;31m    class = 3\u001b[0m\n\u001b[0m          ^\u001b[0m\n\u001b[0;31mSyntaxError\u001b[0m\u001b[0;31m:\u001b[0m invalid syntax\n"
     ]
    }
   ],
   "source": [
    "# 미리 정의된 변수명은 사용불가\n",
    "\n",
    "class = 3\n",
    "class"
   ]
  },
  {
   "cell_type": "code",
   "execution_count": 1,
   "id": "mI4nyd_BECTZ",
   "metadata": {
    "colab": {
     "base_uri": "https://localhost:8080/",
     "height": 130
    },
    "executionInfo": {
     "elapsed": 13,
     "status": "error",
     "timestamp": 1678108552892,
     "user": {
      "displayName": "Hun Park",
      "userId": "02903063424710487386"
     },
     "user_tz": -540
    },
    "id": "mI4nyd_BECTZ",
    "outputId": "acbd6bd4-8226-44d9-dc52-a5d33dffcc0f"
   },
   "outputs": [
    {
     "ename": "SyntaxError",
     "evalue": "ignored",
     "output_type": "error",
     "traceback": [
      "\u001b[0;36m  File \u001b[0;32m\"<ipython-input-1-bc89436cd6b2>\"\u001b[0;36m, line \u001b[0;32m1\u001b[0m\n\u001b[0;31m    for = 3\u001b[0m\n\u001b[0m        ^\u001b[0m\n\u001b[0;31mSyntaxError\u001b[0m\u001b[0;31m:\u001b[0m invalid syntax\n"
     ]
    }
   ],
   "source": [
    "# 미리 정의된 변수명은 사용불가\n",
    "\n",
    "for = 3\n",
    "for"
   ]
  },
  {
   "cell_type": "code",
   "execution_count": null,
   "id": "9e2bbb58",
   "metadata": {},
   "outputs": [],
   "source": [
    "# 예제"
   ]
  },
  {
   "cell_type": "code",
   "execution_count": null,
   "id": "a59382cd",
   "metadata": {},
   "outputs": [],
   "source": []
  },
  {
   "cell_type": "code",
   "execution_count": 2,
   "id": "dbf86d45",
   "metadata": {},
   "outputs": [
    {
     "data": {
      "text/plain": [
       "8712"
      ]
     },
     "execution_count": 2,
     "metadata": {},
     "output_type": "execute_result"
    }
   ],
   "source": [
    "a = 88\n",
    "b = 99\n",
    "\n",
    "a*b"
   ]
  },
  {
   "cell_type": "code",
   "execution_count": 3,
   "id": "f153805b",
   "metadata": {},
   "outputs": [
    {
     "data": {
      "text/plain": [
       "8712"
      ]
     },
     "execution_count": 3,
     "metadata": {},
     "output_type": "execute_result"
    }
   ],
   "source": [
    "88*99"
   ]
  },
  {
   "cell_type": "markdown",
   "id": "e38c5101",
   "metadata": {
    "id": "e38c5101"
   },
   "source": [
    "## 숫자\n",
    "- int: 정수\n",
    "- float: 실수\n",
    "- complex: 복소수"
   ]
  },
  {
   "cell_type": "code",
   "execution_count": null,
   "id": "b6753ddb",
   "metadata": {
    "id": "b6753ddb",
    "outputId": "8f8b33fb-197b-43dd-cc39-e79d6194bc45"
   },
   "outputs": [
    {
     "data": {
      "text/plain": [
       "int"
      ]
     },
     "execution_count": 22,
     "metadata": {},
     "output_type": "execute_result"
    }
   ],
   "source": [
    "# 정수 타입\n",
    "\n",
    "a = 1\n",
    "type(a)"
   ]
  },
  {
   "cell_type": "code",
   "execution_count": null,
   "id": "7d61ec60",
   "metadata": {
    "id": "7d61ec60",
    "outputId": "43a834ad-603b-448c-daae-20b5ac3087ff"
   },
   "outputs": [
    {
     "data": {
      "text/plain": [
       "float"
      ]
     },
     "execution_count": 23,
     "metadata": {},
     "output_type": "execute_result"
    }
   ],
   "source": [
    "# 실수(소수) 타입\n",
    "\n",
    "b = 2.0\n",
    "type(b)"
   ]
  },
  {
   "cell_type": "code",
   "execution_count": null,
   "id": "71908b37",
   "metadata": {
    "id": "71908b37",
    "outputId": "84aca5d8-fcd1-42bc-e882-dc689577b355"
   },
   "outputs": [
    {
     "data": {
      "text/plain": [
       "complex"
      ]
     },
     "execution_count": 26,
     "metadata": {},
     "output_type": "execute_result"
    }
   ],
   "source": [
    "# 복소수 타입\n",
    "\n",
    "c = 1 + 3j\n",
    "type(c)"
   ]
  },
  {
   "cell_type": "code",
   "execution_count": null,
   "id": "f5a3d9ee",
   "metadata": {
    "id": "f5a3d9ee",
    "outputId": "93ceeee9-9d9e-4d84-b1ee-dd62d23a89cf"
   },
   "outputs": [
    {
     "data": {
      "text/plain": [
       "1.0"
      ]
     },
     "execution_count": 28,
     "metadata": {},
     "output_type": "execute_result"
    }
   ],
   "source": [
    "# 복소수 c의 실수값\n",
    "\n",
    "c.real"
   ]
  },
  {
   "cell_type": "code",
   "execution_count": null,
   "id": "861ba7db",
   "metadata": {
    "id": "861ba7db",
    "outputId": "5b59c0b0-575a-4ec9-ae8e-40332f6fa61d"
   },
   "outputs": [
    {
     "data": {
      "text/plain": [
       "3.0"
      ]
     },
     "execution_count": 30,
     "metadata": {},
     "output_type": "execute_result"
    }
   ],
   "source": [
    "# 복소수 c의 허수값\n",
    "\n",
    "c.imag"
   ]
  },
  {
   "cell_type": "code",
   "execution_count": null,
   "id": "6c893ccd",
   "metadata": {
    "id": "6c893ccd",
    "outputId": "eae339e6-8fe4-4a2f-99e9-539867fea108"
   },
   "outputs": [
    {
     "data": {
      "text/plain": [
       "(3+4j)"
      ]
     },
     "execution_count": 64,
     "metadata": {},
     "output_type": "execute_result"
    }
   ],
   "source": [
    "a = 3\n",
    "b = 4\n",
    "z = complex(3, 4) # complex(실수부, 허수부)\n",
    "z"
   ]
  },
  {
   "cell_type": "code",
   "execution_count": null,
   "id": "68886c6e",
   "metadata": {
    "id": "68886c6e",
    "outputId": "9af01a15-8b88-4906-a0ef-62049312cf63"
   },
   "outputs": [
    {
     "data": {
      "text/plain": [
       "(3-4j)"
      ]
     },
     "execution_count": 65,
     "metadata": {},
     "output_type": "execute_result"
    }
   ],
   "source": [
    "# 켤레복소수\n",
    "\n",
    "w = z.conjugate()\n",
    "w"
   ]
  },
  {
   "cell_type": "code",
   "execution_count": null,
   "id": "b54d402b-1ba6-460b-a9cf-83899e673210",
   "metadata": {},
   "outputs": [],
   "source": []
  },
  {
   "cell_type": "code",
   "execution_count": null,
   "id": "a68b4f62-e33f-45af-abe3-46aa624d1c45",
   "metadata": {},
   "outputs": [],
   "source": []
  },
  {
   "cell_type": "code",
   "execution_count": null,
   "id": "1c7d73b2-47d3-4a82-83c2-615570f8a2de",
   "metadata": {},
   "outputs": [],
   "source": []
  }
 ],
 "metadata": {
  "colab": {
   "provenance": []
  },
  "kernelspec": {
   "display_name": "Python 3 (ipykernel)",
   "language": "python",
   "name": "python3"
  },
  "language_info": {
   "codemirror_mode": {
    "name": "ipython",
    "version": 3
   },
   "file_extension": ".py",
   "mimetype": "text/x-python",
   "name": "python",
   "nbconvert_exporter": "python",
   "pygments_lexer": "ipython3",
   "version": "3.11.9"
  }
 },
 "nbformat": 4,
 "nbformat_minor": 5
}
