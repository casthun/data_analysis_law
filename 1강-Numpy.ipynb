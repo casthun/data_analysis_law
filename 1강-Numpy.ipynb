{
 "cells": [
  {
   "cell_type": "markdown",
   "id": "682ae098",
   "metadata": {},
   "source": [
    "# Numpy\n",
    "- Numpy는 Numerical Python의 줄임말로, 과학/공학 계산을 위한 수치 계산 라이브러리임."
   ]
  },
  {
   "cell_type": "markdown",
   "id": "48b67b56",
   "metadata": {},
   "source": [
    "## 1. 배열 생성"
   ]
  },
  {
   "cell_type": "markdown",
   "id": "7c14c3dc",
   "metadata": {},
   "source": [
    "### 1.1. 리스트로부터 배열 생성"
   ]
  },
  {
   "cell_type": "code",
   "execution_count": 1,
   "id": "301cafe2",
   "metadata": {},
   "outputs": [],
   "source": [
    "import numpy as np # numpy 패키지 로드하여 np로 사용"
   ]
  },
  {
   "cell_type": "code",
   "execution_count": 7,
   "id": "a828c527",
   "metadata": {},
   "outputs": [
    {
     "data": {
      "text/plain": [
       "array([[1, 2, 3],\n",
       "       [4, 5, 6],\n",
       "       [7, 8, 9]])"
      ]
     },
     "execution_count": 7,
     "metadata": {},
     "output_type": "execute_result"
    }
   ],
   "source": [
    "a = [[1,2,3], [4,5,6], [7,8,9]] # 리스트 생성\n",
    "b = np.array(a) # 리스트를 numpy array로 변환\n",
    "b"
   ]
  },
  {
   "cell_type": "code",
   "execution_count": 8,
   "id": "daf4a7ce-1870-419d-9c95-68d464c34d7a",
   "metadata": {},
   "outputs": [
    {
     "data": {
      "text/plain": [
       "[[1, 2, 3], [4, 5, 6], [7, 8, 9]]"
      ]
     },
     "execution_count": 8,
     "metadata": {},
     "output_type": "execute_result"
    }
   ],
   "source": [
    "b.tolist()"
   ]
  },
  {
   "cell_type": "code",
   "execution_count": null,
   "id": "2b0570af-9049-42bb-ad35-6a91c94b9c01",
   "metadata": {},
   "outputs": [],
   "source": []
  },
  {
   "cell_type": "code",
   "execution_count": 9,
   "id": "f254c7e0",
   "metadata": {},
   "outputs": [
    {
     "name": "stdout",
     "output_type": "stream",
     "text": [
      "2\n"
     ]
    }
   ],
   "source": [
    "print(b.ndim) # 배열의 차원"
   ]
  },
  {
   "cell_type": "code",
   "execution_count": 10,
   "id": "6c8c05ce",
   "metadata": {},
   "outputs": [
    {
     "name": "stdout",
     "output_type": "stream",
     "text": [
      "(3, 3)\n"
     ]
    }
   ],
   "source": [
    "print(b.shape) # 배열의 모양(행, 열)"
   ]
  },
  {
   "cell_type": "code",
   "execution_count": 11,
   "id": "847d3669",
   "metadata": {},
   "outputs": [
    {
     "data": {
      "text/plain": [
       "2"
      ]
     },
     "execution_count": 11,
     "metadata": {},
     "output_type": "execute_result"
    }
   ],
   "source": [
    "b[0][1]  # 배열의 원소 접근1"
   ]
  },
  {
   "cell_type": "code",
   "execution_count": 12,
   "id": "e6a46614",
   "metadata": {},
   "outputs": [
    {
     "data": {
      "text/plain": [
       "2"
      ]
     },
     "execution_count": 12,
     "metadata": {},
     "output_type": "execute_result"
    }
   ],
   "source": [
    "b[0,1]  # 배열의 원소 접근2"
   ]
  },
  {
   "cell_type": "code",
   "execution_count": 13,
   "id": "f8b4d04f",
   "metadata": {},
   "outputs": [
    {
     "data": {
      "text/plain": [
       "3"
      ]
     },
     "execution_count": 13,
     "metadata": {},
     "output_type": "execute_result"
    }
   ],
   "source": [
    "b[0,2]  # b[0][2]와 동일"
   ]
  },
  {
   "cell_type": "code",
   "execution_count": 14,
   "id": "f417a21e",
   "metadata": {},
   "outputs": [
    {
     "data": {
      "text/plain": [
       "7"
      ]
     },
     "execution_count": 14,
     "metadata": {},
     "output_type": "execute_result"
    }
   ],
   "source": [
    "b[2,0]  # b[2][0]와 동일 "
   ]
  },
  {
   "cell_type": "markdown",
   "id": "dfcc8ad4",
   "metadata": {},
   "source": [
    "### 1.2. 특수한 배열의 생성\n",
    "\n",
    "- np.arange(scalar): 파이썬에서 사용하는 range() 함수의 결과가 요소로 들어감. range()에서 사용가능한 기법들 역시 사용가능(첫번째 숫자 지정, 두번째 숫자 지정, step size 지정)\n",
    "- np.zeros(int or tuple): 0이 들어있는 배열을 간단하게 생성해주는 명령어\n",
    "- np.ones(int or tuple): 1이 들어있는 배열을 간단하게 생성해주는 명령어\n",
    "- np.linspace(scalar, num=n): 간격을 지정하여 선형으로 배치된 n개의 값을 갖는 배열을 만들 수 있음."
   ]
  },
  {
   "cell_type": "code",
   "execution_count": 15,
   "id": "176d09d4",
   "metadata": {},
   "outputs": [
    {
     "data": {
      "text/plain": [
       "array([0, 1, 2, 3, 4, 5, 6, 7, 8, 9])"
      ]
     },
     "execution_count": 15,
     "metadata": {},
     "output_type": "execute_result"
    }
   ],
   "source": [
    "np.arange(10) # 0부터 9까지 1씩 증가하는 1차원 배열 생성"
   ]
  },
  {
   "cell_type": "code",
   "execution_count": 16,
   "id": "09572d99-08a0-4fdb-8f85-90d6c8d4a962",
   "metadata": {},
   "outputs": [
    {
     "name": "stdout",
     "output_type": "stream",
     "text": [
      "[0 1 2 3 4 5 6 7 8 9]\n"
     ]
    }
   ],
   "source": [
    "print(np.arange(10)) # 0부터 9까지 1씩 증가하는 1차원 배열 생성"
   ]
  },
  {
   "cell_type": "code",
   "execution_count": 17,
   "id": "2e6146c7",
   "metadata": {},
   "outputs": [
    {
     "name": "stdout",
     "output_type": "stream",
     "text": [
      "[5 6 7 8 9]\n"
     ]
    }
   ],
   "source": [
    "print(np.arange(5, 10)) # 5부터 9까지 1씩 증가하는 1차원 배열 생성"
   ]
  },
  {
   "cell_type": "code",
   "execution_count": 18,
   "id": "ee1e1650-c773-429b-8e25-454bdb0a3c91",
   "metadata": {},
   "outputs": [
    {
     "data": {
      "text/plain": [
       "array([ 0,  5, 10, 15, 20, 25, 30, 35, 40, 45, 50, 55, 60, 65, 70, 75, 80,\n",
       "       85, 90, 95])"
      ]
     },
     "execution_count": 18,
     "metadata": {},
     "output_type": "execute_result"
    }
   ],
   "source": [
    "np.arange(100, step=5)"
   ]
  },
  {
   "cell_type": "code",
   "execution_count": 19,
   "id": "734b1ba4",
   "metadata": {},
   "outputs": [
    {
     "name": "stdout",
     "output_type": "stream",
     "text": [
      "[[0. 0.]\n",
      " [0. 0.]]\n"
     ]
    }
   ],
   "source": [
    "print(np.zeros((2,2))) # (2,2) 영행렬 생성"
   ]
  },
  {
   "cell_type": "code",
   "execution_count": 20,
   "id": "fe56502f",
   "metadata": {},
   "outputs": [
    {
     "name": "stdout",
     "output_type": "stream",
     "text": [
      "[[1. 1. 1.]\n",
      " [1. 1. 1.]]\n"
     ]
    }
   ],
   "source": [
    "print(np.ones((2,3))) # (2,3) 유닛행렬 생성"
   ]
  },
  {
   "cell_type": "code",
   "execution_count": 26,
   "id": "59bf440f-7068-47c6-9798-f978bd7023f2",
   "metadata": {},
   "outputs": [
    {
     "name": "stdout",
     "output_type": "stream",
     "text": [
      "[  0.  50. 100.]\n"
     ]
    }
   ],
   "source": [
    "print(np.linspace(0, 100, 3)) # 0~100 사이에 n개의 균등한 간격을 가진 데이터를 생성\n",
    "\n",
    "# 첫번째 데이터: 0\n",
    "# 마지막 데이터: 100"
   ]
  },
  {
   "cell_type": "code",
   "execution_count": null,
   "id": "25e1bb55-ac45-43d8-b012-71ca6435c7bf",
   "metadata": {},
   "outputs": [],
   "source": []
  },
  {
   "cell_type": "markdown",
   "id": "337d8f1c",
   "metadata": {},
   "source": [
    "### 1.3. 배열의 차원 변환"
   ]
  },
  {
   "cell_type": "code",
   "execution_count": 27,
   "id": "71883355",
   "metadata": {},
   "outputs": [
    {
     "name": "stdout",
     "output_type": "stream",
     "text": [
      "[ 0  1  2  3  4  5  6  7  8  9 10 11 12 13 14 15 16 17 18 19]\n"
     ]
    }
   ],
   "source": [
    "a = np.arange(20)\n",
    "print(a)"
   ]
  },
  {
   "cell_type": "code",
   "execution_count": 29,
   "id": "858a5f6a",
   "metadata": {},
   "outputs": [
    {
     "data": {
      "text/plain": [
       "array([ 0,  5, 10, 15, 20, 25, 30, 35, 40, 45, 50, 55, 60, 65, 70, 75, 80,\n",
       "       85, 90, 95])"
      ]
     },
     "execution_count": 29,
     "metadata": {},
     "output_type": "execute_result"
    }
   ],
   "source": [
    "# step = 5 --> 5씩 건너뛰면서 배열을 생성\n",
    "\n",
    "a1 = np.arange(100, step=5)\n",
    "a1"
   ]
  },
  {
   "cell_type": "code",
   "execution_count": 30,
   "id": "799035c9",
   "metadata": {},
   "outputs": [
    {
     "data": {
      "text/plain": [
       "array([[ 0,  5, 10, 15, 20],\n",
       "       [25, 30, 35, 40, 45],\n",
       "       [50, 55, 60, 65, 70],\n",
       "       [75, 80, 85, 90, 95]])"
      ]
     },
     "execution_count": 30,
     "metadata": {},
     "output_type": "execute_result"
    }
   ],
   "source": [
    "# 4x5 2차원 행렬로 변환\n",
    "\n",
    "b = a1.reshape((4,5))\n",
    "b"
   ]
  },
  {
   "cell_type": "code",
   "execution_count": 31,
   "id": "e75bd106",
   "metadata": {},
   "outputs": [
    {
     "data": {
      "text/plain": [
       "array([[[ 0,  5, 10, 15, 20],\n",
       "        [25, 30, 35, 40, 45]],\n",
       "\n",
       "       [[50, 55, 60, 65, 70],\n",
       "        [75, 80, 85, 90, 95]]])"
      ]
     },
     "execution_count": 31,
     "metadata": {},
     "output_type": "execute_result"
    }
   ],
   "source": [
    "# 2x2x5 3차원 행렬로 변환\n",
    "\n",
    "c = a1.reshape((2,2,5))\n",
    "c"
   ]
  },
  {
   "cell_type": "code",
   "execution_count": 30,
   "id": "672b0077",
   "metadata": {},
   "outputs": [
    {
     "data": {
      "text/plain": [
       "2"
      ]
     },
     "execution_count": 30,
     "metadata": {},
     "output_type": "execute_result"
    }
   ],
   "source": [
    "b.ndim"
   ]
  },
  {
   "cell_type": "code",
   "execution_count": 31,
   "id": "15fe4c2a",
   "metadata": {},
   "outputs": [
    {
     "data": {
      "text/plain": [
       "1"
      ]
     },
     "execution_count": 31,
     "metadata": {},
     "output_type": "execute_result"
    }
   ],
   "source": [
    "a.ndim"
   ]
  },
  {
   "cell_type": "code",
   "execution_count": 32,
   "id": "69334d72",
   "metadata": {},
   "outputs": [
    {
     "data": {
      "text/plain": [
       "3"
      ]
     },
     "execution_count": 32,
     "metadata": {},
     "output_type": "execute_result"
    }
   ],
   "source": [
    "c.ndim"
   ]
  },
  {
   "cell_type": "code",
   "execution_count": null,
   "id": "4ec16103",
   "metadata": {},
   "outputs": [],
   "source": [
    "# 예제\n",
    "\n",
    "# 0~39까지 1씩 증가하는 40개의 배열을 numpy array로 구성\n",
    "# 생성된 array를 5x8 2차원 행렬로 변환\n",
    "# 생성된 array를 4x2x5 3차원 행렬로 변환"
   ]
  },
  {
   "cell_type": "code",
   "execution_count": null,
   "id": "c4e7a667-4071-415d-84c3-2972ac452b00",
   "metadata": {},
   "outputs": [],
   "source": []
  },
  {
   "cell_type": "markdown",
   "id": "ec2323a3",
   "metadata": {},
   "source": [
    "## 2. Numpy 연산"
   ]
  },
  {
   "cell_type": "markdown",
   "id": "d3f88202",
   "metadata": {},
   "source": [
    "### 2.1. 사칙연산"
   ]
  },
  {
   "cell_type": "code",
   "execution_count": 18,
   "id": "c7e0b99e",
   "metadata": {},
   "outputs": [
    {
     "data": {
      "text/plain": [
       "array([5, 7, 9])"
      ]
     },
     "execution_count": 18,
     "metadata": {},
     "output_type": "execute_result"
    }
   ],
   "source": [
    "a = np.array([1,2,3])\n",
    "b = np.array([4,5,6])\n",
    "\n",
    "c = np.add(a,b) # c = a + b\n",
    "\n",
    "c"
   ]
  },
  {
   "cell_type": "code",
   "execution_count": 19,
   "id": "fe7ed380-a958-4254-bbaa-f8046b2e9d94",
   "metadata": {},
   "outputs": [
    {
     "data": {
      "text/plain": [
       "array([5, 7, 9])"
      ]
     },
     "execution_count": 19,
     "metadata": {},
     "output_type": "execute_result"
    }
   ],
   "source": [
    "c = a + b\n",
    "c"
   ]
  },
  {
   "cell_type": "code",
   "execution_count": 20,
   "id": "dcf9be93",
   "metadata": {},
   "outputs": [
    {
     "data": {
      "text/plain": [
       "array([ 4, 10, 18])"
      ]
     },
     "execution_count": 20,
     "metadata": {},
     "output_type": "execute_result"
    }
   ],
   "source": [
    "d = np.multiply(a,b) # d = a*b\n",
    "d"
   ]
  },
  {
   "cell_type": "code",
   "execution_count": 21,
   "id": "5cd8eb76-a70b-424d-97ae-a9824b1f62ff",
   "metadata": {},
   "outputs": [
    {
     "data": {
      "text/plain": [
       "array([ 4, 10, 18])"
      ]
     },
     "execution_count": 21,
     "metadata": {},
     "output_type": "execute_result"
    }
   ],
   "source": [
    "d = a*b\n",
    "d"
   ]
  },
  {
   "cell_type": "code",
   "execution_count": 22,
   "id": "763d2ead",
   "metadata": {},
   "outputs": [
    {
     "data": {
      "text/plain": [
       "array([0.25, 0.4 , 0.5 ])"
      ]
     },
     "execution_count": 22,
     "metadata": {},
     "output_type": "execute_result"
    }
   ],
   "source": [
    "e = np.divide(a, b) # e = a/b\n",
    "e"
   ]
  },
  {
   "cell_type": "code",
   "execution_count": 23,
   "id": "63eec81e-8eba-46db-8607-013e94e77a9b",
   "metadata": {},
   "outputs": [
    {
     "data": {
      "text/plain": [
       "array([0.25, 0.4 , 0.5 ])"
      ]
     },
     "execution_count": 23,
     "metadata": {},
     "output_type": "execute_result"
    }
   ],
   "source": [
    "e = a/b\n",
    "e"
   ]
  },
  {
   "cell_type": "code",
   "execution_count": null,
   "id": "70b133ee-f590-4a56-b9e5-97138a5d9d7e",
   "metadata": {},
   "outputs": [],
   "source": []
  },
  {
   "cell_type": "markdown",
   "id": "260a6560",
   "metadata": {},
   "source": [
    "### 2.2. 행렬의 곱"
   ]
  },
  {
   "cell_type": "code",
   "execution_count": 2,
   "id": "b6310696",
   "metadata": {},
   "outputs": [
    {
     "name": "stdout",
     "output_type": "stream",
     "text": [
      "[[1 2]\n",
      " [3 4]]\n",
      "\n",
      "[[5 6]\n",
      " [7 8]]\n",
      "\n",
      "[[19 22]\n",
      " [43 50]]\n"
     ]
    }
   ],
   "source": [
    "arr1 = [[1,2], [3,4]]\n",
    "arr2 = [[5,6], [7,8]]\n",
    "\n",
    "a = np.array(arr1)\n",
    "\n",
    "b = np.array(arr2)\n",
    "\n",
    "c = np.dot(a,b)\n",
    "\n",
    "print(a)\n",
    "print()\n",
    "print(b)\n",
    "print()\n",
    "print(c)"
   ]
  },
  {
   "cell_type": "code",
   "execution_count": null,
   "id": "e97ef5a8-bd49-46e5-a07c-55be2eb2fb85",
   "metadata": {},
   "outputs": [],
   "source": []
  },
  {
   "cell_type": "markdown",
   "id": "7b8e26ef",
   "metadata": {},
   "source": [
    "### 2.3. 모든 원소의 합과 곱"
   ]
  },
  {
   "cell_type": "code",
   "execution_count": 4,
   "id": "6e1cb231",
   "metadata": {},
   "outputs": [
    {
     "name": "stdout",
     "output_type": "stream",
     "text": [
      "[[1 2 3]\n",
      " [3 4 8]]\n",
      "\n",
      "sum = 21\n",
      "sum = 21\n"
     ]
    }
   ],
   "source": [
    "a = np.array([[1,2,3], [3,4,8]])\n",
    "s = np.sum(a)\n",
    "print(a)\n",
    "print()\n",
    "print(\"sum =\", a.sum()) \n",
    "print(\"sum =\", s) # s의 결과는 a.sum()의 결과와 동일"
   ]
  },
  {
   "cell_type": "code",
   "execution_count": 68,
   "id": "974bd897",
   "metadata": {},
   "outputs": [
    {
     "name": "stdout",
     "output_type": "stream",
     "text": [
      "sum by row= [ 4  6 11]\n"
     ]
    }
   ],
   "source": [
    "print(\"sum by row=\", a.sum(axis=0)) # 행방향으로 합을 구함."
   ]
  },
  {
   "cell_type": "code",
   "execution_count": 69,
   "id": "dce9ebef",
   "metadata": {},
   "outputs": [
    {
     "name": "stdout",
     "output_type": "stream",
     "text": [
      "sum by column= [ 6 15]\n"
     ]
    }
   ],
   "source": [
    "print(\"sum by column=\", a.sum(axis=1)) # 열방향으로 합을 구함."
   ]
  },
  {
   "cell_type": "code",
   "execution_count": 70,
   "id": "cd0c1a0a",
   "metadata": {},
   "outputs": [
    {
     "name": "stdout",
     "output_type": "stream",
     "text": [
      "product= 576\n"
     ]
    }
   ],
   "source": [
    "print(\"product=\", a.prod())"
   ]
  },
  {
   "cell_type": "code",
   "execution_count": 71,
   "id": "d453780f",
   "metadata": {},
   "outputs": [
    {
     "name": "stdout",
     "output_type": "stream",
     "text": [
      "mean= 3.5\n"
     ]
    }
   ],
   "source": [
    "print(\"mean=\", a.mean())"
   ]
  },
  {
   "cell_type": "code",
   "execution_count": 72,
   "id": "d3470c2f",
   "metadata": {},
   "outputs": [
    {
     "name": "stdout",
     "output_type": "stream",
     "text": [
      "standard deviation= 2.217355782608345\n"
     ]
    }
   ],
   "source": [
    "print(\"standard deviation=\", a.std())"
   ]
  },
  {
   "cell_type": "code",
   "execution_count": null,
   "id": "fb0e5c59",
   "metadata": {},
   "outputs": [],
   "source": [
    "# 예제\n",
    "\n",
    "# a = np.array([[2,3,4], [5,6,7]])\n",
    "\n",
    "# a.prod()\n",
    "# a.prod(axis=0)\n",
    "# a.prod(axis=1)\n",
    "\n",
    "# a.mean()\n",
    "# a.mean(axis=0)\n",
    "# a.mean(axis=1)\n"
   ]
  }
 ],
 "metadata": {
  "kernelspec": {
   "display_name": "Python 3 (ipykernel)",
   "language": "python",
   "name": "python3"
  },
  "language_info": {
   "codemirror_mode": {
    "name": "ipython",
    "version": 3
   },
   "file_extension": ".py",
   "mimetype": "text/x-python",
   "name": "python",
   "nbconvert_exporter": "python",
   "pygments_lexer": "ipython3",
   "version": "3.11.9"
  }
 },
 "nbformat": 4,
 "nbformat_minor": 5
}
